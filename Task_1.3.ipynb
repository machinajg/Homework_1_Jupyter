{
 "cells": [
  {
   "attachments": {},
   "cell_type": "markdown",
   "metadata": {},
   "source": [
    "## Задача 1.3. \n",
    "Дан список с затратами на рекламу. Но в данных есть ошибки, некоторые затраты имеют отрицательную величину. Удалите такие значения из списка и посчитайте суммарные затраты. Используйте list comprehensions.\n",
    "Примеры/Тесты:\n",
    "\n",
    "        [-12, 100, 0, 125, -90, 0, 345, 655, -1, 0, 200] -> [100, 0, 125, 0, 345, 655, 0, 200]"
   ]
  },
  {
   "cell_type": "code",
   "execution_count": 1,
   "metadata": {},
   "outputs": [
    {
     "name": "stdout",
     "output_type": "stream",
     "text": [
      "[100, 0, 125, 0, 345, 655, 0, 200]\n"
     ]
    }
   ],
   "source": [
    "Expenses = [-12, 100, 0, 125, -90, 0, 345, 655, -1, 0, 200]\n",
    "Expenses_new = [i for i in Expenses if i>=0]\n",
    "print(Expenses_new)"
   ]
  },
  {
   "attachments": {},
   "cell_type": "markdown",
   "metadata": {},
   "source": [
    "### ```(*)``` **Усложнение.** \n",
    "Удалите отрицательные значения из списка, а нулевые значения замените на None\n",
    "Примеры/Тесты:\n",
    "\n",
    "        [-12, 100, 0, 125, -90, 0, 345, 655, -1, 0, 200] -> [100, None, 125, None, 345, 655, None, 200]"
   ]
  },
  {
   "cell_type": "code",
   "execution_count": 4,
   "metadata": {},
   "outputs": [
    {
     "name": "stdout",
     "output_type": "stream",
     "text": [
      "[100, None, 125, None, 345, 655, None, 200]\n"
     ]
    }
   ],
   "source": [
    "Expenses = [-12, 100, 0, 125, -90, 0, 345, 655, -1, 0, 200]\n",
    "Expenses_new = [(None if i == 0 else i ) for i in Expenses if i>=0]\n",
    "print(Expenses_new)"
   ]
  }
 ],
 "metadata": {
  "kernelspec": {
   "display_name": "Python 3",
   "language": "python",
   "name": "python3"
  },
  "language_info": {
   "codemirror_mode": {
    "name": "ipython",
    "version": 3
   },
   "file_extension": ".py",
   "mimetype": "text/x-python",
   "name": "python",
   "nbconvert_exporter": "python",
   "pygments_lexer": "ipython3",
   "version": "3.11.3"
  },
  "orig_nbformat": 4,
  "vscode": {
   "interpreter": {
    "hash": "aee8b7b246df8f9039afb4144a1f6fd8d2ca17a180786b69acc140d282b71a49"
   }
  }
 },
 "nbformat": 4,
 "nbformat_minor": 2
}
